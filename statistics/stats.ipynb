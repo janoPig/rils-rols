{
 "cells": [
  {
   "cell_type": "code",
   "execution_count": 93,
   "id": "4adce84e",
   "metadata": {},
   "outputs": [],
   "source": [
    "import numpy as np \n",
    "import pandas as pd\n",
    "import matplotlib.pyplot as plt\n",
    "import seaborn as sns "
   ]
  },
  {
   "cell_type": "code",
   "execution_count": 94,
   "id": "4f3ed599",
   "metadata": {},
   "outputs": [
    {
     "name": "stderr",
     "output_type": "stream",
     "text": [
      "/tmp/ipykernel_4467/2346210856.py:6: SettingWithCopyWarning: \n",
      "A value is trying to be set on a copy of a slice from a DataFrame.\n",
      "Try using .loc[row_indexer,col_indexer] = value instead\n",
      "\n",
      "See the caveats in the documentation: https://pandas.pydata.org/pandas-docs/stable/user_guide/indexing.html#returning-a-view-versus-a-copy\n",
      "  results_needed_noise0['correct'] = results_needed_noise0['correct'].apply(lambda x: 100 * x)\n"
     ]
    },
    {
     "data": {
      "image/png": "[encoded data removed]",
      "text/plain": [
       "<Figure size 432x288 with 1 Axes>"
      ]
     },
     "metadata": {
      "needs_background": "light"
     },
     "output_type": "display_data"
    }
   ],
   "source": [
    "## include results \n",
    "\n",
    "results = pd.read_csv(\"random_results.xlsx\")\n",
    "\n",
    "results_needed_noise0 = results[[\"group\", \"size\", \"size_class\", \"vars\", \"true model\",  \"time\", \"correct ind\", \"correct\"]]\n",
    "results_needed_noise0['correct'] = results_needed_noise0['correct'].apply(lambda x: 100 * x)\n",
    "\n",
    "sns.barplot(x='vars',y='correct', data=results_needed_noise0, ci=None)\n",
    "\n",
    "results_needed_noise0_gb_vars = results_needed_noise0.groupby([\"vars\"]).aggregate( {\"correct\": \"mean\"} )\n",
    "results_needed_noise0_gb_vars\n",
    "\n",
    "plt.xlabel(\"#variables \")\n",
    "plt.ylabel(\"exact percentage \")\n",
    "plt.savefig(\"numvars_vs_exact_correct_no_noise.eps\")\n"
   ]
  },
  {
   "cell_type": "code",
   "execution_count": 95,
   "id": "739c366f",
   "metadata": {},
   "outputs": [
    {
     "data": {
      "image/png": "[encoded data removed]",
      "text/plain": [
       "<Figure size 432x288 with 1 Axes>"
      ]
     },
     "metadata": {
      "needs_background": "light"
     },
     "output_type": "display_data"
    }
   ],
   "source": [
    "######################## exact percentages w.r.t. size of exact models ==> no noisy data\n",
    "\n",
    "results_needed_noise0_reset = results_needed_noise0.reset_index()\n",
    "#results_needed_noise0_reset['correct'] = results_needed_noise0_reset['correct'].apply(lambda x: 100*x)\n",
    "sns.barplot(x='size',y='correct', data=results_needed_noise0_reset, ci=None)\n",
    "\n",
    "results_needed_noise0_gb_size = results_needed_noise0.groupby([\"size\"]).aggregate( {\"correct\": \"mean\"} )\n",
    "#results_needed_noise0['correct'] = results_needed_noise0['correct'].apply(lambda x: 100*x, axis = 0)\n",
    "results_needed_noise0_gb_size\n",
    "\n",
    "plt.xlabel(\"size\")\n",
    "plt.ylabel(\"exact percentage \")\n",
    "plt.savefig(\"numsize_vs_exact_correct_no_noise.eps\")  "
   ]
  },
  {
   "cell_type": "code",
   "execution_count": 96,
   "id": "18253aa3",
   "metadata": {},
   "outputs": [
    {
     "data": {
      "text/html": [
       "<div>\n",
       "<style scoped>\n",
       "    .dataframe tbody tr th:only-of-type {\n",
       "        vertical-align: middle;\n",
       "    }\n",
       "\n",
       "    .dataframe tbody tr th {\n",
       "        vertical-align: top;\n",
       "    }\n",
       "\n",
       "    .dataframe thead th {\n",
       "        text-align: right;\n",
       "    }\n",
       "</style>\n",
       "<table border=\"1\" class=\"dataframe\">\n",
       "  <thead>\n",
       "    <tr style=\"text-align: right;\">\n",
       "      <th></th>\n",
       "      <th>time</th>\n",
       "    </tr>\n",
       "    <tr>\n",
       "      <th>vars</th>\n",
       "      <th></th>\n",
       "    </tr>\n",
       "  </thead>\n",
       "  <tbody>\n",
       "    <tr>\n",
       "      <th>1</th>\n",
       "      <td>77.578462</td>\n",
       "    </tr>\n",
       "    <tr>\n",
       "      <th>2</th>\n",
       "      <td>104.341667</td>\n",
       "    </tr>\n",
       "    <tr>\n",
       "      <th>3</th>\n",
       "      <td>121.476000</td>\n",
       "    </tr>\n",
       "    <tr>\n",
       "      <th>4</th>\n",
       "      <td>157.157778</td>\n",
       "    </tr>\n",
       "    <tr>\n",
       "      <th>5</th>\n",
       "      <td>204.066667</td>\n",
       "    </tr>\n",
       "  </tbody>\n",
       "</table>\n",
       "</div>"
      ],
      "text/plain": [
       "            time\n",
       "vars            \n",
       "1      77.578462\n",
       "2     104.341667\n",
       "3     121.476000\n",
       "4     157.157778\n",
       "5     204.066667"
      ]
     },
     "execution_count": 96,
     "metadata": {},
     "output_type": "execute_result"
    },
    {
     "data": {
      "image/png": "[encoded data removed]",
      "text/plain": [
       "<Figure size 432x288 with 1 Axes>"
      ]
     },
     "metadata": {
      "needs_background": "light"
     },
     "output_type": "display_data"
    }
   ],
   "source": [
    "##################  exact percentages w.r.t. runtime\n",
    "\n",
    "sns.barplot(x='vars', y='time', data=results_needed_noise0, ci=None)\n",
    "plt.xlabel(\"#variables\")\n",
    "plt.ylabel(\"avg. runtime [s] \")\n",
    "plt.savefig(\"numsize_vs_time_no_noise.eps\")  \n",
    "# numerical results\n",
    "results_needed_noise0_time  = results_needed_noise0.groupby([\"vars\"]).aggregate({\"time\" : \"mean\"})\n",
    "results_needed_noise0_time"
   ]
  },
  {
   "cell_type": "code",
   "execution_count": 101,
   "id": "d295cab8",
   "metadata": {},
   "outputs": [
    {
     "name": "stdout",
     "output_type": "stream",
     "text": [
      "['group', 'size', 'size_class', 'vars', 'true model', 'time.1', 'correct.1']\n"
     ]
    },
    {
     "name": "stderr",
     "output_type": "stream",
     "text": [
      "/tmp/ipykernel_4467/2351392583.py:18: SettingWithCopyWarning: \n",
      "A value is trying to be set on a copy of a slice from a DataFrame.\n",
      "Try using .loc[row_indexer,col_indexer] = value instead\n",
      "\n",
      "See the caveats in the documentation: https://pandas.pydata.org/pandas-docs/stable/user_guide/indexing.html#returning-a-view-versus-a-copy\n",
      "  results_needed_noise_level[cols_expected[-1]] = results_needed_noise_level[cols_expected[-1]].apply(lambda x: 100*x)\n"
     ]
    },
    {
     "data": {
      "image/png": "[encoded data removed]",
      "text/plain": [
       "<Figure size 432x288 with 1 Axes>"
      ]
     },
     "metadata": {
      "needs_background": "light"
     },
     "output_type": "display_data"
    }
   ],
   "source": [
    "############ noisy data plots:\n",
    "NOISE_LEVEL = 0.001\n",
    "cols_expected = [\"group\", \"size\", \"size_class\", \"vars\", \"true model\" ]\n",
    "\n",
    "#additional columns depending of noise level:\n",
    "index = \"\"\n",
    "if NOISE_LEVEL == 0.001:\n",
    "    index = \".1\"\n",
    "else:\n",
    "    index =\".2\"\n",
    "\n",
    "cols_expected.append(\"time\" + index)\n",
    "cols_expected.append(\"correct\" + index)\n",
    "print(cols_expected)\n",
    "#results.info()\n",
    "results_needed_noise_level = results[cols_expected]\n",
    "## transform to percentages \n",
    "results_needed_noise_level[cols_expected[-1]] = results_needed_noise_level[cols_expected[-1]].apply(lambda x: 100*x)\n",
    "results_needed_noise_level\n",
    "\n",
    "#### VARS vs. exact precission:\n",
    "sns.barplot(x = \"vars\", y = cols_expected[-1], data = results_needed_noise_level, ci=None )\n",
    "###### customize the plot:\n",
    "plt.xlabel(\"#variables \")\n",
    "plt.ylabel(\"exact percentage \")\n",
    "plt.savefig(\"numvars_vs_exact_correct_noise\" + str(NOISE_LEVEL).replace( \".\", \"_\" ) + \".eps\")\n",
    "# numerical results\n",
    "results_needed_noise_level_avg = results_needed_noise_level.groupby(\"vars\").aggregate({cols_expected[-1]:\"mean\"})\n",
    "results_needed_noise_level_avg\n",
    "\n",
    "#### VARS vs. AVG RUNTIME:\n",
    "sns.barplot(x = \"vars\", y = cols_expected[-2], data = results_needed_noise_level, ci=None)\n",
    "###### customize the plot:\n",
    "plt.xlabel(\"Vars \")\n",
    "plt.ylabel(\"avg. runtime [s] \")\n",
    "plt.savefig(\"vars_vs_time_noise\" + str(NOISE_LEVEL).replace( \".\", \"_\" ) + \".eps\")\n",
    "# numerical results\n",
    "#results_needed_noise_level[results_needed_noise_level[\"vars\"] == 5]\n",
    "\n",
    "# numerical results\n",
    "results_needed_noise_levelSize_avg = results_needed_noise_level.groupby(\"size\").aggregate({cols_expected[-1] : \"mean\"})\n",
    "results_needed_noise_levelSize_avg_reset = results_needed_noise_levelSize_avg.reset_index()\n",
    "#results_needed_noise_level[results_needed_noise_level[\"size\"] == 7]\n",
    "#results_needed_noise_levelSize_avg_reset.plot(kind=\"bar\", x = \"size\", y=\"correct.2\")"
   ]
  },
  {
   "cell_type": "code",
   "execution_count": 102,
   "id": "adf22c0c",
   "metadata": {},
   "outputs": [
    {
     "data": {
      "image/png": "[encoded data removed]",
      "text/plain": [
       "<Figure size 432x288 with 1 Axes>"
      ]
     },
     "metadata": {
      "needs_background": "light"
     },
     "output_type": "display_data"
    }
   ],
   "source": [
    "#### SIZE vs. exact precission \n",
    "sns.barplot(x = \"size\", y = str(cols_expected[-1]), data = results_needed_noise_level, ci=None )\n",
    "###### customize the plot:\n",
    "plt.xlabel(\"size \")\n",
    "plt.ylabel(\"exact percentage \")\n",
    "plt.savefig(\"numsize_vs_exact_correct_noise\" + str(NOISE_LEVEL).replace( \".\", \"_\" ) + \".eps\")"
   ]
  },
  {
   "cell_type": "code",
   "execution_count": null,
   "id": "124fc8ff",
   "metadata": {},
   "outputs": [],
   "source": []
  }
 ],
 "metadata": {
  "kernelspec": {
   "display_name": "Python 3 (ipykernel)",
   "language": "python",
   "name": "python3"
  },
  "language_info": {
   "codemirror_mode": {
    "name": "ipython",
    "version": 3
   },
   "file_extension": ".py",
   "mimetype": "text/x-python",
   "name": "python",
   "nbconvert_exporter": "python",
   "pygments_lexer": "ipython3",
   "version": "3.8.10"
  }
 },
 "nbformat": 4,
 "nbformat_minor": 5
}
