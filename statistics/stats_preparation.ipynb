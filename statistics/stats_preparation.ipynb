{
 "cells": [
  {
   "cell_type": "code",
   "execution_count": 133,
   "id": "34a662dd",
   "metadata": {},
   "outputs": [],
   "source": [
    "import pandas as pd\n",
    "import numpy as np \n",
    "import matplotlib.pyplot as plt \n"
   ]
  },
  {
   "cell_type": "code",
   "execution_count": 134,
   "id": "74c181a9",
   "metadata": {},
   "outputs": [
    {
     "name": "stderr",
     "output_type": "stream",
     "text": [
      "/tmp/ipykernel_4394/884508441.py:6: SettingWithCopyWarning: \n",
      "A value is trying to be set on a copy of a slice from a DataFrame.\n",
      "Try using .loc[row_indexer,col_indexer] = value instead\n",
      "\n",
      "See the caveats in the documentation: https://pandas.pydata.org/pandas-docs/stable/user_guide/indexing.html#returning-a-view-versus-a-copy\n",
      "  results_noise0['correct'] = results_noise0['correct'].apply(lambda x: 100 * x)\n",
      "/tmp/ipykernel_4394/884508441.py:9: SettingWithCopyWarning: \n",
      "A value is trying to be set on a copy of a slice from a DataFrame.\n",
      "Try using .loc[row_indexer,col_indexer] = value instead\n",
      "\n",
      "See the caveats in the documentation: https://pandas.pydata.org/pandas-docs/stable/user_guide/indexing.html#returning-a-view-versus-a-copy\n",
      "  results_noise_0001['correct.2'] = results_noise_0001['correct.1'].apply(lambda x: 100 * x)\n",
      "/tmp/ipykernel_4394/884508441.py:12: SettingWithCopyWarning: \n",
      "A value is trying to be set on a copy of a slice from a DataFrame.\n",
      "Try using .loc[row_indexer,col_indexer] = value instead\n",
      "\n",
      "See the caveats in the documentation: https://pandas.pydata.org/pandas-docs/stable/user_guide/indexing.html#returning-a-view-versus-a-copy\n",
      "  results_noise_001['correct.2'] = results_noise_001['correct.2'].apply(lambda x: 100 * x)\n"
     ]
    }
   ],
   "source": [
    "## include results \n",
    "\n",
    "results = pd.read_csv(\"random_results.xlsx\")\n",
    "\n",
    "results_noise0 = results[[\"group\", \"size\", \"size_class\", \"vars\", \"correct\"]]\n",
    "results_noise0['correct'] = results_noise0['correct'].apply(lambda x: 100 * x)\n",
    "\n",
    "results_noise_0001 = results[[\"group\", \"size\", \"size_class\", \"correct.1\"]]\n",
    "results_noise_0001['correct.2'] = results_noise_0001['correct.1'].apply(lambda x: 100 * x)\n",
    "\n",
    "results_noise_001 = results[[\"group\", \"size\", \"size_class\", \"correct.2\"]]\n",
    "results_noise_001['correct.2'] = results_noise_001['correct.2'].apply(lambda x: 100 * x)\n"
   ]
  },
  {
   "cell_type": "code",
   "execution_count": 135,
   "id": "d3c7f339",
   "metadata": {},
   "outputs": [
    {
     "name": "stdout",
     "output_type": "stream",
     "text": [
      "             instance   seed                        true model  test R2  \\\n",
      "0    strogatz_bacres1    860   20 - x - (x * y)/(1+0.5 * x**2)      1.0   \n",
      "1    strogatz_bacres1   4426   20 - x - (x * y)/(1+0.5 * x**2)      1.0   \n",
      "2    strogatz_bacres1   5390   20 - x - (x * y)/(1+0.5 * x**2)      1.0   \n",
      "3    strogatz_bacres1  14423   20 - x - (x * y)/(1+0.5 * x**2)      1.0   \n",
      "4    strogatz_bacres1  15795   20 - x - (x * y)/(1+0.5 * x**2)      1.0   \n",
      "..                ...    ...                               ...      ...   \n",
      "135     strogatz_vdp2  16850                     -(1)/(10) * x      1.0   \n",
      "136     strogatz_vdp2  21962                     -(1)/(10) * x      1.0   \n",
      "137     strogatz_vdp2  23654                     -(1)/(10) * x      1.0   \n",
      "138     strogatz_vdp2  28020                     -(1)/(10) * x      1.0   \n",
      "139     strogatz_vdp2  29910                     -(1)/(10) * x      1.0   \n",
      "\n",
      "     test RMSE  size   time                           model  R2>0.999  \\\n",
      "0          0.0    16  121.5  -2*x0*x1/(x0**2 + 2) - x0 + 20         1   \n",
      "1          0.0    16  164.3  -2*x0*x1/(x0**2 + 2) - x0 + 20         1   \n",
      "2          0.0    16   63.2  -2*x0*x1/(x0**2 + 2) - x0 + 20         1   \n",
      "3          0.0    16  124.1  -2*x0*x1/(x0**2 + 2) - x0 + 20         1   \n",
      "4          0.0    17  371.2     -x0 - 2*x1/(x0 + 2/x0) + 20         1   \n",
      "..         ...   ...    ...                             ...       ...   \n",
      "135        0.0     3    0.6                         -0.1*x0         1   \n",
      "136        0.0     3    0.6                         -0.1*x0         1   \n",
      "137        0.0     3    0.6                         -0.1*x0         1   \n",
      "138        0.0     3    0.6                         -0.1*x0         1   \n",
      "139        0.0     3    0.5                         -0.1*x0         1   \n",
      "\n",
      "     correct ind  ...  correct ind.1  correct.1  test R2.2  test RMSE.2  \\\n",
      "0              1  ...              0          0   0.999907     0.024233   \n",
      "1              1  ...              0          0   0.999329     0.053522   \n",
      "2              1  ...              0          0   0.998915     0.093913   \n",
      "3              1  ...              0          0   0.998582     0.094673   \n",
      "4              1  ...              0          0   0.999899     0.029354   \n",
      "..           ...  ...            ...        ...        ...          ...   \n",
      "135            1  ...              1          1   1.000000     0.000000   \n",
      "136            1  ...              1          1   1.000000     0.000000   \n",
      "137            1  ...              1          1   1.000000     0.000000   \n",
      "138            1  ...              1          1   1.000000     0.000000   \n",
      "139            1  ...              1          1   1.000000     0.000000   \n",
      "\n",
      "     size.2 time.2                                  model.2 R2>0.999.2  \\\n",
      "0        11    7.4            -1.01*x0 + 20.17 - 1.98*x1/x0          1   \n",
      "1        11    4.1             -1.01*x0 + 20.2 - 1.98*x1/x0          1   \n",
      "2        11    6.9            -1.01*x0 + 20.21 - 1.99*x1/x0          0   \n",
      "3        11    3.6            -1.01*x0 + 20.16 - 1.98*x1/x0          0   \n",
      "4        21    7.8  -0.98*x0 + 19.71 + 2.13/(-x0/x1 - 1/x1)          1   \n",
      "..      ...    ...                                      ...        ...   \n",
      "135       3    0.5                                  -0.1*x0          1   \n",
      "136       3    0.5                                  -0.1*x0          1   \n",
      "137       3    0.6                                  -0.1*x0          1   \n",
      "138       3    0.5                                  -0.1*x0          1   \n",
      "139       3    0.4                                  -0.1*x0          1   \n",
      "\n",
      "     correct ind.2  correct.2  \n",
      "0                0          0  \n",
      "1                0          0  \n",
      "2                0          0  \n",
      "3                0          0  \n",
      "4                0          0  \n",
      "..             ...        ...  \n",
      "135              1          1  \n",
      "136              1          1  \n",
      "137              1          1  \n",
      "138              1          1  \n",
      "139              1          1  \n",
      "\n",
      "[140 rows x 27 columns]\n"
     ]
    },
    {
     "name": "stderr",
     "output_type": "stream",
     "text": [
      "/tmp/ipykernel_4394/3673740932.py:76: SettingWithCopyWarning: \n",
      "A value is trying to be set on a copy of a slice from a DataFrame\n",
      "\n",
      "See the caveats in the documentation: https://pandas.pydata.org/pandas-docs/stable/user_guide/indexing.html#returning-a-view-versus-a-copy\n",
      "  results_groundtruth_by_algorithm[algorithm ].drop(columns = [\"algorithm\"], axis = 1, inplace=True)\n",
      "/tmp/ipykernel_4394/3673740932.py:76: SettingWithCopyWarning: \n",
      "A value is trying to be set on a copy of a slice from a DataFrame\n",
      "\n",
      "See the caveats in the documentation: https://pandas.pydata.org/pandas-docs/stable/user_guide/indexing.html#returning-a-view-versus-a-copy\n",
      "  results_groundtruth_by_algorithm[algorithm ].drop(columns = [\"algorithm\"], axis = 1, inplace=True)\n",
      "/tmp/ipykernel_4394/3673740932.py:76: SettingWithCopyWarning: \n",
      "A value is trying to be set on a copy of a slice from a DataFrame\n",
      "\n",
      "See the caveats in the documentation: https://pandas.pydata.org/pandas-docs/stable/user_guide/indexing.html#returning-a-view-versus-a-copy\n",
      "  results_groundtruth_by_algorithm[algorithm ].drop(columns = [\"algorithm\"], axis = 1, inplace=True)\n",
      "/tmp/ipykernel_4394/3673740932.py:76: SettingWithCopyWarning: \n",
      "A value is trying to be set on a copy of a slice from a DataFrame\n",
      "\n",
      "See the caveats in the documentation: https://pandas.pydata.org/pandas-docs/stable/user_guide/indexing.html#returning-a-view-versus-a-copy\n",
      "  results_groundtruth_by_algorithm[algorithm ].drop(columns = [\"algorithm\"], axis = 1, inplace=True)\n",
      "/tmp/ipykernel_4394/3673740932.py:76: SettingWithCopyWarning: \n",
      "A value is trying to be set on a copy of a slice from a DataFrame\n",
      "\n",
      "See the caveats in the documentation: https://pandas.pydata.org/pandas-docs/stable/user_guide/indexing.html#returning-a-view-versus-a-copy\n",
      "  results_groundtruth_by_algorithm[algorithm ].drop(columns = [\"algorithm\"], axis = 1, inplace=True)\n",
      "/tmp/ipykernel_4394/3673740932.py:76: SettingWithCopyWarning: \n",
      "A value is trying to be set on a copy of a slice from a DataFrame\n",
      "\n",
      "See the caveats in the documentation: https://pandas.pydata.org/pandas-docs/stable/user_guide/indexing.html#returning-a-view-versus-a-copy\n",
      "  results_groundtruth_by_algorithm[algorithm ].drop(columns = [\"algorithm\"], axis = 1, inplace=True)\n",
      "/tmp/ipykernel_4394/3673740932.py:76: SettingWithCopyWarning: \n",
      "A value is trying to be set on a copy of a slice from a DataFrame\n",
      "\n",
      "See the caveats in the documentation: https://pandas.pydata.org/pandas-docs/stable/user_guide/indexing.html#returning-a-view-versus-a-copy\n",
      "  results_groundtruth_by_algorithm[algorithm ].drop(columns = [\"algorithm\"], axis = 1, inplace=True)\n",
      "/tmp/ipykernel_4394/3673740932.py:76: SettingWithCopyWarning: \n",
      "A value is trying to be set on a copy of a slice from a DataFrame\n",
      "\n",
      "See the caveats in the documentation: https://pandas.pydata.org/pandas-docs/stable/user_guide/indexing.html#returning-a-view-versus-a-copy\n",
      "  results_groundtruth_by_algorithm[algorithm ].drop(columns = [\"algorithm\"], axis = 1, inplace=True)\n",
      "/tmp/ipykernel_4394/3673740932.py:76: SettingWithCopyWarning: \n",
      "A value is trying to be set on a copy of a slice from a DataFrame\n",
      "\n",
      "See the caveats in the documentation: https://pandas.pydata.org/pandas-docs/stable/user_guide/indexing.html#returning-a-view-versus-a-copy\n",
      "  results_groundtruth_by_algorithm[algorithm ].drop(columns = [\"algorithm\"], axis = 1, inplace=True)\n",
      "/tmp/ipykernel_4394/3673740932.py:76: SettingWithCopyWarning: \n",
      "A value is trying to be set on a copy of a slice from a DataFrame\n",
      "\n",
      "See the caveats in the documentation: https://pandas.pydata.org/pandas-docs/stable/user_guide/indexing.html#returning-a-view-versus-a-copy\n",
      "  results_groundtruth_by_algorithm[algorithm ].drop(columns = [\"algorithm\"], axis = 1, inplace=True)\n",
      "/tmp/ipykernel_4394/3673740932.py:76: SettingWithCopyWarning: \n",
      "A value is trying to be set on a copy of a slice from a DataFrame\n",
      "\n",
      "See the caveats in the documentation: https://pandas.pydata.org/pandas-docs/stable/user_guide/indexing.html#returning-a-view-versus-a-copy\n",
      "  results_groundtruth_by_algorithm[algorithm ].drop(columns = [\"algorithm\"], axis = 1, inplace=True)\n",
      "/tmp/ipykernel_4394/3673740932.py:76: SettingWithCopyWarning: \n",
      "A value is trying to be set on a copy of a slice from a DataFrame\n",
      "\n",
      "See the caveats in the documentation: https://pandas.pydata.org/pandas-docs/stable/user_guide/indexing.html#returning-a-view-versus-a-copy\n",
      "  results_groundtruth_by_algorithm[algorithm ].drop(columns = [\"algorithm\"], axis = 1, inplace=True)\n",
      "/tmp/ipykernel_4394/3673740932.py:76: SettingWithCopyWarning: \n",
      "A value is trying to be set on a copy of a slice from a DataFrame\n",
      "\n",
      "See the caveats in the documentation: https://pandas.pydata.org/pandas-docs/stable/user_guide/indexing.html#returning-a-view-versus-a-copy\n",
      "  results_groundtruth_by_algorithm[algorithm ].drop(columns = [\"algorithm\"], axis = 1, inplace=True)\n",
      "/tmp/ipykernel_4394/3673740932.py:76: SettingWithCopyWarning: \n",
      "A value is trying to be set on a copy of a slice from a DataFrame\n",
      "\n",
      "See the caveats in the documentation: https://pandas.pydata.org/pandas-docs/stable/user_guide/indexing.html#returning-a-view-versus-a-copy\n",
      "  results_groundtruth_by_algorithm[algorithm ].drop(columns = [\"algorithm\"], axis = 1, inplace=True)\n"
     ]
    }
   ],
   "source": [
    "############################# real instances (groundtruth): AI_ Feynman first #############################\n",
    "ALGORITHMS = [\"AIFeynman\", \"Operon\", \"AFP_FE\", \"AFP\", \"BSR\", \"DSR\", \"EPLEX\", \"FEAT\", \"FFX\", \"GP-GOMEA\", \"ITEA\", \"MRGP\", \"SBP-GP\", \"gplearn\"   ]\n",
    "data_groups = [\"Feynman\", \"Strogatz\"]\n",
    "noise_levels = [0.0, 0.001, 0.01 ]\n",
    "\n",
    "## index of groups\n",
    "data_groups_index = 1 # data_groups[ data_groups_index ]\n",
    "noise_levels_index = 0 # noise_levels[ noise_levels_index ]\n",
    "criterion_column = \"accuracy_solution\" #\"symbolic_solution_rate_(%)\" #accuracy_solution\n",
    "criterion_feynman_column = \"R2>0.999\"# correct\n",
    "################# dataset ####################################\n",
    "\n",
    "results_groundtruth = pd.read_csv(\"groundtruth.csv\")\n",
    "results_groundtruth_noise = results_groundtruth[(results_groundtruth[\"target_noise\"] == noise_levels[ noise_levels_index ]) & (results_groundtruth[\"data_group\"] == data_groups[ data_groups_index ])]\n",
    "\n",
    "########################## aggregate ##################################################################################################\n",
    "results_groundtruth_noise_groupby_alg = results_groundtruth_noise.groupby([\"algorithm\"]).aggregate({ criterion_column : \"mean\" }) # symbolic_solution_rate_(%)\n",
    "results_groundtruth_noise_groupby_alg_ri = results_groundtruth_noise_groupby_alg.reset_index()\n",
    "results_groundtruth_noise_groupby_alg_ri\n",
    "\n",
    "results_groundtruth_noise_required = results_groundtruth_noise[[\"algorithm\", \"dataset\", criterion_column]]\n",
    "results_groundtruth_noise_required\n",
    "\n",
    "########## feynman or stogatz results ==> include ##########################\n",
    "\n",
    "def feynman_or_strogatz(filename, noise_level):\n",
    "    \n",
    "    file_name = \"\"\n",
    "    if filename == \"Feynman\":\n",
    "        file_name = \"feynman_results.csv\"\n",
    "    else:\n",
    "        file_name = \"strogatz_results.csv\"\n",
    "    \n",
    "    feynman_results = pd.read_csv(file_name, delimiter=\",\", encoding='utf-16') #, encoding='cp1252')\n",
    "    print(feynman_results)\n",
    "    feynman_results_groupby = feynman_results.groupby([\"instance\"]).aggregate({criterion_feynman_column : \"sum\", criterion_feynman_column +\".1\" : \"sum\", criterion_feynman_column + \".2\" : \"sum\" })\n",
    "    feynman_results_groupby_ri = feynman_results_groupby.reset_index()\n",
    "    feynman_results_groupby_ri['algorithm'] = feynman_results_groupby_ri.apply(lambda x: 'Rils-Rols', axis = 1)\n",
    "\n",
    "    if noise_level == 0.0: \n",
    "        feynman_results_groupby_ri = feynman_results_groupby_ri[[\"algorithm\", \"instance\", criterion_feynman_column]]\n",
    "    elif noise_level == 0.001:\n",
    "        feynman_results_groupby_ri = feynman_results_groupby_ri[[\"algorithm\", \"instance\", criterion_feynman_column + \".1\"]]\n",
    "    else:\n",
    "        feynman_results_groupby_ri = feynman_results_groupby_ri[[\"algorithm\", \"instance\", criterion_feynman_column + \".2\"]]\n",
    "    \n",
    "    feynman_results_groupby_ri.columns = [\"algorithm\", \"dataset\",  criterion_feynman_column]\n",
    "    \n",
    "    if criterion_column != \"accuracy_solution\":\n",
    "        feynman_results_groupby_ri[criterion_feynman_column] = feynman_results_groupby_ri[ criterion_feynman_column ].apply(lambda x: x * 10 )\n",
    "    else:\n",
    "        feynman_results_groupby_ri[criterion_feynman_column] = feynman_results_groupby_ri[ criterion_feynman_column ].apply(lambda x: x / 10 )\n",
    "\n",
    "    return feynman_results_groupby_ri\n",
    "\n",
    "#results_groundtruth_noise_required\n",
    "\n",
    "####################################### Strogatz and Feynman dataset include for Rils-Rols #################################################\n",
    "feynman_results_noise = pd.DataFrame()\n",
    "\n",
    "if data_groups[ data_groups_index ] == \"Feynman\": \n",
    "    feynman_results_noise = feynman_or_strogatz(data_groups[0], noise_levels[ noise_levels_index ])\n",
    "else:\n",
    "    feynman_results_noise = feynman_or_strogatz(data_groups[1], noise_levels[ noise_levels_index ])\n",
    "\n",
    "##################### merge datasets columns: algorithms ==> rows dataset: symbolc_sol. rate ##########################################################\n",
    "\n",
    "results_groundtruth_noise_required\n",
    "\n",
    "########## results_groundtruth_noise_required: split by algorithm ###################################\n",
    "results_groundtruth_by_algorithm = {}\n",
    "\n",
    "for algorithm in ALGORITHMS:\n",
    "    results_groundtruth_noise_alg = results_groundtruth_noise_required[results_groundtruth_noise_required[\"algorithm\"] == algorithm]\n",
    "    results_groundtruth_by_algorithm[algorithm] = results_groundtruth_noise_alg\n",
    "    results_groundtruth_by_algorithm[algorithm ].drop(columns = [\"algorithm\"], axis = 1, inplace=True)\n",
    "    results_groundtruth_by_algorithm[algorithm].columns = [\"dataset\", algorithm ]\n"
   ]
  },
  {
   "cell_type": "code",
   "execution_count": 136,
   "id": "48e6b0e1",
   "metadata": {},
   "outputs": [
    {
     "name": "stdout",
     "output_type": "stream",
     "text": [
      "    algorithm              dataset  R2>0.999\n",
      "0   Rils-Rols     strogatz_bacres1       1.0\n",
      "1   Rils-Rols     strogatz_bacres2       1.0\n",
      "2   Rils-Rols     strogatz_barmag1       0.6\n",
      "3   Rils-Rols     strogatz_barmag2       1.0\n",
      "4   Rils-Rols     strogatz_glider1       1.0\n",
      "5   Rils-Rols     strogatz_glider2       1.0\n",
      "6   Rils-Rols         strogatz_lv1       1.0\n",
      "7   Rils-Rols         strogatz_lv2       1.0\n",
      "8   Rils-Rols   strogatz_predprey1       0.9\n",
      "9   Rils-Rols   strogatz_predprey2       1.0\n",
      "10  Rils-Rols  strogatz_shearflow1       0.1\n",
      "11  Rils-Rols  strogatz_shearflow2       1.0\n",
      "12  Rils-Rols        strogatz_vdp1       1.0\n",
      "13  Rils-Rols        strogatz_vdp2       1.0\n"
     ]
    }
   ],
   "source": [
    "########## Feynamn/Strogatz: reduction\n",
    "print(feynman_results_noise)\n",
    "\n",
    "data_all_results = pd.DataFrame()\n",
    "feynman_results_noise.drop(columns = [\"algorithm\"], axis = 1, inplace=True)\n",
    "feynman_results_noise.columns = [\"dataset\", \"Rils-Rols\"]\n"
   ]
  },
  {
   "cell_type": "code",
   "execution_count": 137,
   "id": "fd145857",
   "metadata": {},
   "outputs": [
    {
     "name": "stderr",
     "output_type": "stream",
     "text": [
      "/tmp/ipykernel_4394/3733515722.py:1: FutureWarning: Dropping of nuisance columns in DataFrame reductions (with 'numeric_only=None') is deprecated; in a future version this will raise TypeError.  Select only valid columns before calling the reduction.\n",
      "  feynman_results_noise.mean()\n"
     ]
    },
    {
     "data": {
      "text/plain": [
       "Rils-Rols    0.9\n",
       "dtype: float64"
      ]
     },
     "execution_count": 137,
     "metadata": {},
     "output_type": "execute_result"
    }
   ],
   "source": [
    "feynman_results_noise.mean()"
   ]
  },
  {
   "cell_type": "code",
   "execution_count": 138,
   "id": "1e3df9f5",
   "metadata": {},
   "outputs": [
    {
     "name": "stdout",
     "output_type": "stream",
     "text": [
      "Strogatz_noise_0_0.csv\n"
     ]
    }
   ],
   "source": [
    "### MERGE:\n",
    "data_all_results = feynman_results_noise.copy()\n",
    "### merge results\n",
    "for algorithm in ALGORITHMS:\n",
    "    data_all_results = data_all_results.merge(results_groundtruth_by_algorithm[algorithm], on = [\"dataset\"])   \n",
    "#### save to .csv\n",
    "data_all_results['noise'] = data_all_results.apply(lambda x: noise_levels[ noise_levels_index ], axis = 1) \n",
    "data_all_results.to_csv( data_groups[ data_groups_index ]  + \"_noise_\" +  str(noise_levels[ noise_levels_index ] ).replace( \".\", \"_\" ) + criterion_column + \".csv\", sep=\",\")\n",
    "\n",
    "print(data_groups[ data_groups_index ]  + \"_noise_\" +  str(noise_levels[ noise_levels_index ] ).replace( \".\", \"_\" ) + \".csv\")\n",
    " "
   ]
  },
  {
   "cell_type": "code",
   "execution_count": 139,
   "id": "fbabab3d",
   "metadata": {
    "scrolled": false
   },
   "outputs": [
    {
     "name": "stderr",
     "output_type": "stream",
     "text": [
      "/tmp/ipykernel_4394/3284405129.py:1: FutureWarning: Dropping of nuisance columns in DataFrame reductions (with 'numeric_only=None') is deprecated; in a future version this will raise TypeError.  Select only valid columns before calling the reduction.\n",
      "  data_all_results.mean()\n"
     ]
    },
    {
     "data": {
      "text/plain": [
       "Rils-Rols    0.900000\n",
       "AIFeynman    0.357143\n",
       "Operon       0.928571\n",
       "AFP_FE       0.285714\n",
       "AFP          0.250000\n",
       "BSR          0.214286\n",
       "DSR          0.142857\n",
       "EPLEX        0.214286\n",
       "FEAT         0.428571\n",
       "FFX          0.000000\n",
       "GP-GOMEA     0.714286\n",
       "ITEA         0.214286\n",
       "MRGP         0.892857\n",
       "SBP-GP       0.785714\n",
       "gplearn      0.071429\n",
       "noise        0.000000\n",
       "dtype: float64"
      ]
     },
     "execution_count": 139,
     "metadata": {},
     "output_type": "execute_result"
    }
   ],
   "source": [
    "data_all_results.mean()"
   ]
  },
  {
   "cell_type": "code",
   "execution_count": 140,
   "id": "1c384ba2",
   "metadata": {
    "scrolled": false
   },
   "outputs": [
    {
     "data": {
      "text/plain": [
       "0.9"
      ]
     },
     "execution_count": 140,
     "metadata": {},
     "output_type": "execute_result"
    }
   ],
   "source": [
    "data_all_results['Rils-Rols'].mean()"
   ]
  },
  {
   "cell_type": "code",
   "execution_count": 141,
   "id": "82dc1ae5",
   "metadata": {},
   "outputs": [
    {
     "name": "stdout",
     "output_type": "stream",
     "text": [
      "0.9\n",
      "0.2857142857142857\n"
     ]
    },
    {
     "name": "stderr",
     "output_type": "stream",
     "text": [
      "/home/marko/.local/lib/python3.8/site-packages/scipy/stats/_morestats.py:3145: UserWarning: Exact p-value calculation does not work if there are ties. Switching to normal approximation.\n",
      "  warnings.warn(\"Exact p-value calculation does not work if there are \"\n"
     ]
    },
    {
     "data": {
      "text/plain": [
       "WilcoxonResult(statistic=0.0, pvalue=0.0028110405915931177)"
      ]
     },
     "execution_count": 141,
     "metadata": {},
     "output_type": "execute_result"
    }
   ],
   "source": [
    "#### statistics \n",
    "from scipy import stats\n",
    "print(data_all_results['Rils-Rols'].mean())\n",
    "print(data_all_results['AFP_FE'].mean())\n",
    "\n",
    "###  the Wilcoxon signed rank test\n",
    "#here was a statistically significant difference if  p < 0.05; otherwise not \n",
    "stats.wilcoxon(data_all_results['Rils-Rols'], data_all_results['AFP_FE'])## reject hypothesis \n",
    "\n"
   ]
  },
  {
   "cell_type": "code",
   "execution_count": 142,
   "id": "04dafb0a",
   "metadata": {},
   "outputs": [],
   "source": [
    "#f_s_data = pd.read_csv(\"feynman_strogatz_noise0_001.csv\")\n",
    "#\n",
    "#stats.ranksums(f_s_data[\"Rils_Rols\"], f_s_data[\"DSR\"])"
   ]
  },
  {
   "cell_type": "code",
   "execution_count": 143,
   "id": "24ea30ef",
   "metadata": {},
   "outputs": [],
   "source": [
    "#f_s_data.head(50)"
   ]
  },
  {
   "cell_type": "code",
   "execution_count": null,
   "id": "e4bce2da",
   "metadata": {},
   "outputs": [],
   "source": []
  }
 ],
 "metadata": {
  "kernelspec": {
   "display_name": "Python 3 (ipykernel)",
   "language": "python",
   "name": "python3"
  },
  "language_info": {
   "codemirror_mode": {
    "name": "ipython",
    "version": 3
   },
   "file_extension": ".py",
   "mimetype": "text/x-python",
   "name": "python",
   "nbconvert_exporter": "python",
   "pygments_lexer": "ipython3",
   "version": "3.8.10"
  }
 },
 "nbformat": 4,
 "nbformat_minor": 5
}
